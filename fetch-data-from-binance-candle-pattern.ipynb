{
 "cells": [
  {
   "cell_type": "code",
   "execution_count": 217,
   "metadata": {},
   "outputs": [],
   "source": [
    "import ccxt\n",
    "import pandas as pd\n",
    "\n",
    "def get_data(symbol, limit):\n",
    "    # Connect to Binance (or another exchange)\n",
    "    exchange = ccxt.binance()\n",
    "\n",
    "    # Get OHLCV data (Open, High, Low, Close, Volume)\n",
    "    symbol = f\"{symbol}/USDT\"\n",
    "    timeframe = '15m'  # 1-hour candlesticks\n",
    "\n",
    "    data = exchange.fetch_ohlcv(symbol, timeframe, limit=limit)\n",
    "\n",
    "    # Convert data to DataFrame\n",
    "    df = pd.DataFrame(data, columns=['timestamp', 'open', 'high', 'low', 'close', 'volume'])\n",
    "    df['timestamp'] = pd.to_datetime(df['timestamp'], unit='ms')\n",
    "    df.set_index('timestamp', inplace=True)\n",
    "\n",
    "    import talib\n",
    "\n",
    "    # Detect candlestick patterns\n",
    "    df['bullish_engulfing'] = talib.CDLENGULFING(df['open'], df['high'], df['low'], df['close']) > 0\n",
    "    df['bearish_engulfing'] = talib.CDLENGULFING(df['open'], df['high'], df['low'], df['close']) < 0\n",
    "    df['hammer'] = talib.CDLHAMMER(df['open'], df['high'], df['low'], df['close']) > 0\n",
    "    df['shooting_star'] = talib.CDLSHOOTINGSTAR(df['open'], df['high'], df['low'], df['close']) < 0\n",
    "\n",
    "    # Define Buy/Sell Signals Based on Patterns\n",
    "    df['buy_signal'] = (df['bullish_engulfing'] | df['hammer'])  # Bullish patterns -> Buy signal\n",
    "    df['sell_signal'] = (df['bearish_engulfing'] | df['shooting_star'])  # Bearish patterns -> Sell signal\n",
    "\n",
    "    import numpy as np\n",
    "\n",
    "    df['buy_signal_position'] = [df['low'][i] if df['buy_signal'][i] else np.nan for i in range(len(df))]\n",
    "    df['sell_signal_position'] = [df['high'][i] if df['sell_signal'][i] else np.nan for i in range(len(df))]\n",
    "\n",
    "    return df"
   ]
  },
  {
   "cell_type": "code",
   "execution_count": 222,
   "metadata": {},
   "outputs": [
    {
     "ename": "KeyboardInterrupt",
     "evalue": "",
     "output_type": "error",
     "traceback": [
      "\u001b[0;31m---------------------------------------------------------------------------\u001b[0m",
      "\u001b[0;31mKeyboardInterrupt\u001b[0m                         Traceback (most recent call last)",
      "Cell \u001b[0;32mIn[222], line 22\u001b[0m\n\u001b[1;32m     20\u001b[0m plot_data(df)\n\u001b[1;32m     21\u001b[0m clear_output(wait\u001b[38;5;241m=\u001b[39m\u001b[38;5;28;01mTrue\u001b[39;00m)\n\u001b[0;32m---> 22\u001b[0m \u001b[43mtime\u001b[49m\u001b[38;5;241;43m.\u001b[39;49m\u001b[43msleep\u001b[49m\u001b[43m(\u001b[49m\u001b[38;5;241;43m5\u001b[39;49m\u001b[43m)\u001b[49m\n",
      "\u001b[0;31mKeyboardInterrupt\u001b[0m: "
     ]
    }
   ],
   "source": [
    "# Plot realtime the predictions and the candlestick chart\n",
    "import mplfinance as mpf\n",
    "from IPython.display import clear_output\n",
    "import time\n",
    "\n",
    "def plot_data(df):\n",
    "    candle_num = 50\n",
    "\n",
    "    # Plot only the last 100 candlesticks\n",
    "    df_plot = df.iloc[-candle_num:]\n",
    "\n",
    "    apd = [mpf.make_addplot(df_plot['buy_signal_position'], type='scatter', markersize=100, marker='^'),\n",
    "        mpf.make_addplot(df_plot['sell_signal_position'], type='scatter', markersize=100, marker='v')]\n",
    "\n",
    "    mpf.plot(df_plot,addplot=apd,figscale=1.5, type='candle', style='charles', volume=True)\n",
    "\n",
    "# Plot the data on new window\n",
    "while True:\n",
    "    df = get_data(\"ETH\",1000)\n",
    "    plot_data(df)\n",
    "    clear_output(wait=True)\n",
    "    time.sleep(5)"
   ]
  },
  {
   "cell_type": "code",
   "execution_count": null,
   "metadata": {},
   "outputs": [],
   "source": []
  }
 ],
 "metadata": {
  "kernelspec": {
   "display_name": "3.10.0",
   "language": "python",
   "name": "python3"
  },
  "language_info": {
   "codemirror_mode": {
    "name": "ipython",
    "version": 3
   },
   "file_extension": ".py",
   "mimetype": "text/x-python",
   "name": "python",
   "nbconvert_exporter": "python",
   "pygments_lexer": "ipython3",
   "version": "3.10.0"
  }
 },
 "nbformat": 4,
 "nbformat_minor": 2
}
