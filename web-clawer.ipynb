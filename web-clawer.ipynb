{
 "cells": [
  {
   "cell_type": "code",
   "execution_count": 45,
   "metadata": {},
   "outputs": [],
   "source": [
    "import requests\n",
    "from bs4 import BeautifulSoup"
   ]
  },
  {
   "cell_type": "code",
   "execution_count": 42,
   "metadata": {},
   "outputs": [],
   "source": [
    "# post with payload\n",
    "def postToCointelegraph(pageLength, offest):\n",
    "    payload = {\n",
    "        \"operationName\": \"TagPageQuery\",\n",
    "        \"query\": \"query TagPageQuery($short: String, $slug: String!, $order: String, $offset: Int!, $length: Int!) {\\n  locale(short: $short) {\\n    tag(slug: $slug) {\\n      id\\n      slug\\n      avatar\\n      createdAt\\n      updatedAt\\n      redirectRelativeUrl\\n      alternates {\\n        short\\n        domain\\n        id\\n        code\\n        __typename\\n      }\\n      tagTranslates {\\n        id\\n        title\\n        metaTitle\\n        pageTitle\\n        description\\n        metaDescription\\n        keywords\\n        __typename\\n      }\\n      posts(order: $order, offset: $offset, length: $length) {\\n        data {\\n          id\\n          slug\\n          views\\n          postTranslate {\\n            id\\n            title\\n            avatar\\n            published\\n            publishedHumanFormat\\n            leadText\\n            author {\\n              id\\n              slug\\n              authorTranslates {\\n                id\\n                name\\n                __typename\\n              }\\n              __typename\\n            }\\n            __typename\\n          }\\n          category {\\n            id\\n            slug\\n            __typename\\n          }\\n          author {\\n            id\\n            slug\\n            authorTranslates {\\n              id\\n              name\\n              __typename\\n            }\\n            __typename\\n          }\\n          postBadge {\\n            id\\n            label\\n            postBadgeTranslates {\\n              id\\n              title\\n              __typename\\n            }\\n            __typename\\n          }\\n          showShares\\n          showStats\\n          __typename\\n        }\\n        postsCount\\n        __typename\\n      }\\n      __typename\\n    }\\n    __typename\\n  }\\n}\",\n",
    "        \"variables\": {\n",
    "            \"cacheTimeInMS\": 300000,\n",
    "            \"length\": pageLength,\n",
    "            \"offset\": offest,\n",
    "            \"order\": \"postPublishedTime\",\n",
    "            \"short\": \"en\",\n",
    "            \"slug\": \"markets\"\n",
    "        }\n",
    "    }\n",
    "    url = \"https://conpletus.cointelegraph.com/v1/\"\n",
    "    headers = {\n",
    "        \"Content-Type\": \"application/json\",\n",
    "        \"User-Agent\": \"Mozilla/5.0 (Windows NT 10.0; Win64; x64) AppleWebKit/537.36 (KHTML, like Gecko) Chrome/58.0.3029.110 Safari/537.3\"\n",
    "    }\n",
    "    response = requests.post(url, headers=headers, json=payload)\n",
    "    return response.json()"
   ]
  },
  {
   "cell_type": "code",
   "execution_count": 47,
   "metadata": {},
   "outputs": [],
   "source": [
    "pageLength = 15\n",
    "limit = 100\n",
    "\n",
    "newsBasePath = \"https://cointelegraph.com/news\"\n",
    "\n",
    "newsList = []\n",
    "for i in range(0, limit, pageLength):\n",
    "    data = postToCointelegraph(pageLength, i)\n",
    "    posts = data[\"data\"][\"locale\"][\"tag\"][\"posts\"][\"data\"]\n",
    "    if len(posts) == 0:\n",
    "        break\n",
    "\n",
    "    for post in posts:\n",
    "        postSlug = post[\"slug\"]\n",
    "        newsList.append(f\"{newsBasePath}/{postSlug}\")\n"
   ]
  },
  {
   "cell_type": "code",
   "execution_count": 59,
   "metadata": {},
   "outputs": [],
   "source": [
    "articles = []\n",
    "\n",
    "for news in newsList:\n",
    "    # crawl news with tag article\n",
    "    response = requests.get(news, headers={\"User-Agent\": \"Mozilla/5.0\"})\n",
    "    soup = BeautifulSoup(response.content, \"html.parser\")\n",
    "    article = soup.find(\"article\")\n",
    "\n",
    "    # find h1 tag class post__title\n",
    "    title = article.find(\"h1\", class_=\"post__title\").text\n",
    "\n",
    "    # find all p tags\n",
    "    paragraphs = article.find_all(\"p\")\n",
    "    # get p tag text\n",
    "    content = \"\\n\".join([p.text for p in paragraphs])\n",
    "\n",
    "    # find li tag class tags-list__item\n",
    "    tags = article.find_all(\"li\", class_=\"tags-list__item\")\n",
    "    # get a tag text\n",
    "    hashtags = [tag.find(\"a\").text for tag in tags]\n",
    "\n",
    "    articles.append({\n",
    "        \"title\": title,\n",
    "        \"content\": content,\n",
    "        \"hashtags\": hashtags\n",
    "    })"
   ]
  },
  {
   "cell_type": "code",
   "execution_count": 63,
   "metadata": {},
   "outputs": [],
   "source": [
    "# save articles to json file\n",
    "import json\n",
    "with open(\"articles.json\", \"w\") as file:\n",
    "    json.dump(articles, file, indent=4)"
   ]
  },
  {
   "cell_type": "code",
   "execution_count": null,
   "metadata": {},
   "outputs": [],
   "source": []
  }
 ],
 "metadata": {
  "kernelspec": {
   "display_name": "Python 3",
   "language": "python",
   "name": "python3"
  },
  "language_info": {
   "codemirror_mode": {
    "name": "ipython",
    "version": 3
   },
   "file_extension": ".py",
   "mimetype": "text/x-python",
   "name": "python",
   "nbconvert_exporter": "python",
   "pygments_lexer": "ipython3",
   "version": "3.10.0"
  }
 },
 "nbformat": 4,
 "nbformat_minor": 2
}
